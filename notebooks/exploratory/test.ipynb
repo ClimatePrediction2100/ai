{
 "cells": [
  {
   "cell_type": "code",
   "execution_count": 5,
   "metadata": {},
   "outputs": [],
   "source": [
    "import xarray as xr\n",
    "import numpy as np\n",
    "\n",
    "import os\n",
    "import torch\n",
    "import math\n",
    "import tqdm\n",
    "import random\n",
    "\n",
    "from torch import nn, optim\n",
    "from torch.utils.data import Dataset, DataLoader\n",
    "from torchvision import datasets, transforms"
   ]
  },
  {
   "cell_type": "code",
   "execution_count": 8,
   "metadata": {},
   "outputs": [],
   "source": [
    "temperature_path = \"/Users/jinho/Desktop/climatePrediction/data/raw/globalTemperature/Land_and_Ocean_LatLong1.nc\"\n",
    "co2_path = \"/Users/jinho/Desktop/climatePrediction/data/raw/globalGhgEmissions/CO2_1deg_month_1850-2013.nc\"\n",
    "ssp_path = \"/Users/jinho/Desktop/climatePrediction/data/raw/globalGhgEmissions/CO2_SSP119_2015_2150.nc\""
   ]
  },
  {
   "cell_type": "code",
   "execution_count": 9,
   "metadata": {},
   "outputs": [],
   "source": [
    "temperature = xr.open_dataset(temperature_path)\n",
    "co2 = xr.open_dataset(co2_path)\n",
    "ssp = xr.open_dataset(ssp_path)"
   ]
  },
  {
   "cell_type": "code",
   "execution_count": 4,
   "metadata": {},
   "outputs": [
    {
     "name": "stdout",
     "output_type": "stream",
     "text": [
      "[      nan       nan       nan ... 1.9383544 7.1335173 2.1082845] 2089\n"
     ]
    }
   ],
   "source": [
    "temp = temperature['temperature'].sel(latitude= 90, longitude= 0, method='nearest').values\n",
    "x_temp = temp[0:12]\n",
    "print(temp, len(temp))"
   ]
  },
  {
   "cell_type": "code",
   "execution_count": 5,
   "metadata": {},
   "outputs": [
    {
     "name": "stdout",
     "output_type": "stream",
     "text": [
      "[284.10806274 283.91186523 283.800354   ... 394.12301636 394.00527954\n",
      " 393.90136719] 1968\n"
     ]
    }
   ],
   "source": [
    "co2_temp = co2['value'].sel(LatDim = 179, LonDim = 359).values\n",
    "print(co2_temp, len(co2_temp))"
   ]
  },
  {
   "cell_type": "code",
   "execution_count": 7,
   "metadata": {},
   "outputs": [
    {
     "data": {
      "text/plain": [
       "array([-33.080906 , -34.013264 , -34.13727  , -26.18006  , -12.876778 ,\n",
       "        -3.271984 ,  -1.2843896,  -3.066974 , -10.476302 , -20.527124 ,\n",
       "       -27.032652 , -30.630909 ], dtype=float32)"
      ]
     },
     "execution_count": 7,
     "metadata": {},
     "output_type": "execute_result"
    }
   ],
   "source": [
    "temperature['climatology'].sel(latitude= 90, longitude= 0, method='nearest').values"
   ]
  },
  {
   "cell_type": "code",
   "execution_count": 13,
   "metadata": {},
   "outputs": [],
   "source": [
    "co2_sequence = ssp['CO2'].sel(latitude=179, longitude=359, method=\"nearest\").values"
   ]
  },
  {
   "cell_type": "code",
   "execution_count": 2,
   "metadata": {},
   "outputs": [
    {
     "name": "stdout",
     "output_type": "stream",
     "text": [
      "dict_keys(['longitude', 'latitude', 'time', 'land_mask', 'temperature', 'climatology'])\n"
     ]
    }
   ],
   "source": [
    "import netCDF4 as nc\n",
    "\n",
    "# Open the file\n",
    "file_path = \"/Users/jinho/Desktop/climatePrediction/data/raw/globalTemperature/Land_and_Ocean_LatLong1.nc\"\n",
    "file = nc.Dataset(file_path, 'r')\n",
    "\n",
    "# Get the keys of the file\n",
    "keys = file.variables.keys()\n",
    "print(keys)\n"
   ]
  },
  {
   "cell_type": "code",
   "execution_count": 8,
   "metadata": {},
   "outputs": [
    {
     "name": "stderr",
     "output_type": "stream",
     "text": [
      "/var/folders/h0/74vp_7dd0wbcv7q2f9w9l8qc0000gn/T/ipykernel_49412/3882011367.py:7: UserWarning: WARNING: valid_min not used since it\n",
      "cannot be safely cast to variable data type\n",
      "  temperature_data = temperature[time_slice, lat_idx, lon_idx]\n",
      "/var/folders/h0/74vp_7dd0wbcv7q2f9w9l8qc0000gn/T/ipykernel_49412/3882011367.py:7: UserWarning: WARNING: valid_max not used since it\n",
      "cannot be safely cast to variable data type\n",
      "  temperature_data = temperature[time_slice, lat_idx, lon_idx]\n"
     ]
    }
   ],
   "source": [
    "temperature = file.variables['temperature']\n",
    "\n",
    "lat_idx = 0\n",
    "lon_idx = 0\n",
    "time_slice = slice(1000, 1000 + 12)\n",
    "\n",
    "temperature_data = temperature[time_slice, lat_idx, lon_idx]"
   ]
  },
  {
   "cell_type": "code",
   "execution_count": 11,
   "metadata": {},
   "outputs": [
    {
     "name": "stdout",
     "output_type": "stream",
     "text": [
      "-89.5\n"
     ]
    }
   ],
   "source": [
    "print(file.variables['latitude'][lat_idx])"
   ]
  },
  {
   "cell_type": "code",
   "execution_count": 14,
   "metadata": {},
   "outputs": [
    {
     "name": "stdout",
     "output_type": "stream",
     "text": [
      "-89.5\n"
     ]
    }
   ],
   "source": [
    "print(file.variables['latitude'][0])"
   ]
  },
  {
   "cell_type": "code",
   "execution_count": null,
   "metadata": {},
   "outputs": [],
   "source": []
  }
 ],
 "metadata": {
  "kernelspec": {
   "display_name": "climate",
   "language": "python",
   "name": "climate"
  },
  "language_info": {
   "codemirror_mode": {
    "name": "ipython",
    "version": 3
   },
   "file_extension": ".py",
   "mimetype": "text/x-python",
   "name": "python",
   "nbconvert_exporter": "python",
   "pygments_lexer": "ipython3",
   "version": "3.12.2"
  }
 },
 "nbformat": 4,
 "nbformat_minor": 2
}
