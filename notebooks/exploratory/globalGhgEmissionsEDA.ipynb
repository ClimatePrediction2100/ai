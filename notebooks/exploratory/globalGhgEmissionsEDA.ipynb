{
 "cells": [
  {
   "cell_type": "code",
   "execution_count": 1,
   "metadata": {},
   "outputs": [],
   "source": [
    "import xarray as xr\n",
    "\n",
    "ds = xr.open_dataset('./CO2_1deg_month_1850-2013.nc')"
   ]
  },
  {
   "cell_type": "code",
   "execution_count": 2,
   "metadata": {},
   "outputs": [
    {
     "name": "stdout",
     "output_type": "stream",
     "text": [
      "<xarray.Dataset> Size: 1GB\n",
      "Dimensions:    (LonDim: 360, LatDim: 180, Times: 1968)\n",
      "Coordinates:\n",
      "  * Times      (Times) datetime64[ns] 16kB 1850-01-01 1850-02-01 ... 2013-12-01\n",
      "Dimensions without coordinates: LonDim, LatDim\n",
      "Data variables:\n",
      "    Longitude  (LonDim) float64 3kB ...\n",
      "    Latitude   (LatDim) float64 1kB ...\n",
      "    value      (Times, LatDim, LonDim) float64 1GB ...\n"
     ]
    }
   ],
   "source": [
    "print(ds)"
   ]
  },
  {
   "cell_type": "code",
   "execution_count": null,
   "metadata": {},
   "outputs": [],
   "source": []
  }
 ],
 "metadata": {
  "kernelspec": {
   "display_name": "climate",
   "language": "python",
   "name": "climate"
  },
  "language_info": {
   "codemirror_mode": {
    "name": "ipython",
    "version": 3
   },
   "file_extension": ".py",
   "mimetype": "text/x-python",
   "name": "python",
   "nbconvert_exporter": "python",
   "pygments_lexer": "ipython3",
   "version": "3.12.2"
  }
 },
 "nbformat": 4,
 "nbformat_minor": 2
}
