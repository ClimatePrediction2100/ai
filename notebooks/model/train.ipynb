{
 "cells": [
  {
   "cell_type": "code",
   "execution_count": 1,
   "metadata": {},
   "outputs": [],
   "source": [
    "import xarray as xr\n",
    "import numpy as np\n",
    "\n",
    "import os\n",
    "import torch\n",
    "import math\n",
    "import tqdm\n",
    "\n",
    "from torch import nn, optim\n",
    "from torch.utils.data import Dataset, DataLoader\n",
    "from torchvision import datasets, transforms"
   ]
  },
  {
   "cell_type": "code",
   "execution_count": 2,
   "metadata": {},
   "outputs": [],
   "source": [
    "class ClimateData(Dataset):\n",
    "    def __init__(self, temperature_path, co2_path, grid_size=(5, 5)):\n",
    "        self.temperature = xr.open_dataset(temperature_path)\n",
    "        self.co2 = xr.open_dataset(co2_path)\n",
    "        self.grid_size = grid_size\n",
    "        self.lat_bins = np.arange(-90, 90, self.grid_size[0])\n",
    "        self.lon_bins = np.arange(-180, 180, self.grid_size[1])\n",
    "        \n",
    "        # Reindex time for both datasets to be zero-based\n",
    "        self.temperature = self.temperature.assign_coords(time=np.arange(len(self.temperature.time)))\n",
    "        self.co2 = self.co2.assign_coords(Times=np.arange(len(self.co2.Times)))\n",
    "\n",
    "        # Adjust the max time index to the smallest dataset size for safe indexing\n",
    "        self.max_time_index = min(len(self.temperature.time), len(self.co2.Times))\n",
    "\n",
    "    def __len__(self):\n",
    "        return self.max_time_index * (len(self.lat_bins) * len(self.lon_bins))\n",
    "\n",
    "    def __getitem__(self, idx):\n",
    "        time_index = idx // (len(self.lat_bins) * len(self.lon_bins))\n",
    "        month_index = time_index % 12  # Month index from 0 to 11\n",
    "\n",
    "        spatial_index = idx % (len(self.lat_bins) * len(self.lon_bins))\n",
    "        lat_index = spatial_index // len(self.lon_bins)\n",
    "        lon_index = spatial_index % len(self.lon_bins)\n",
    "\n",
    "        lat_start = self.lat_bins[lat_index]\n",
    "        lon_start = self.lon_bins[lon_index]\n",
    "        lat_slice = slice(lat_start, lat_start + self.grid_size[0])\n",
    "        lon_slice = slice(lon_start, lon_start + self.grid_size[1])\n",
    "\n",
    "        temp_data = self.temperature.isel(time=time_index, latitude=lat_slice, longitude=lon_slice)\n",
    "        if np.any(np.isnan(temp_data['temperature'].values)):\n",
    "            return None  # Skip null data\n",
    "\n",
    "        # Handle missing CO2 data by using the last available data\n",
    "        if time_index < len(self.co2.Times):\n",
    "            co2_data = self.co2.isel(Times=time_index, LatDim=lat_slice, LonDim=lon_slice)\n",
    "        else:\n",
    "            co2_data = self.co2.isel(Times=-1, LatDim=lat_slice, LonDim=lon_slice)\n",
    "\n",
    "        clim_data = self.temperature['climatology'].isel(month_number=month_index + 1, latitude=lat_slice, longitude=lon_slice)\n",
    "\n",
    "        # Cyclic representation of month for seasonal effect\n",
    "        month_sin = np.sin(2 * np.pi * month_index / 12)\n",
    "        month_cos = np.cos(2 * np.pi * month_index / 12)\n",
    "\n",
    "        # Combine temperature, climatology, latitude info, land mask, CO2, and cyclical month into a single state dictionary\n",
    "        state = {\n",
    "            'temperature': torch.tensor(temp_data['temperature'].values, dtype=torch.float),\n",
    "            'climatology': torch.tensor(clim_data.values, dtype=torch.float),\n",
    "            'latitude_info': torch.tensor(lat_start + self.grid_size[0] / 2, dtype=torch.float),\n",
    "            'land_mask': torch.tensor(temp_data['land_mask'].values, dtype=torch.float),\n",
    "            'co2': torch.tensor(co2_data['value'].values, dtype=torch.float),\n",
    "            'month_sin': torch.tensor(month_sin, dtype=torch.float),\n",
    "            'month_cos': torch.tensor(month_cos, dtype=torch.float)\n",
    "        }\n",
    "        return state\n"
   ]
  },
  {
   "cell_type": "code",
   "execution_count": 3,
   "metadata": {},
   "outputs": [],
   "source": [
    "class ClimateLSTM(nn.Module):\n",
    "    def __init__(self, input_dim, hidden_dim, num_layers, output_dim):\n",
    "        super(ClimateLSTM, self).__init__()\n",
    "        self.lstm = nn.LSTM(input_dim, hidden_dim, num_layers, batch_first=True)\n",
    "        self.fc = nn.Linear(hidden_dim, output_dim)\n",
    "\n",
    "    def forward(self, x):\n",
    "        out, _ = self.lstm(x)\n",
    "        out = self.fc(out[:, -1, :])  # Only take the last time step\n",
    "        return out\n"
   ]
  },
  {
   "cell_type": "code",
   "execution_count": 4,
   "metadata": {},
   "outputs": [],
   "source": [
    "import os\n",
    "import tqdm\n",
    "\n",
    "\n",
    "def train_model(model, data_loader, criterion, optimizer, num_epochs, checkpoint_path=\"checkpoints\"):\n",
    "    model.train()\n",
    "    os.makedirs(checkpoint_path, exist_ok=True)  # Create checkpoint directory if it doesn't exist\n",
    "\n",
    "    for epoch in range(num_epochs):\n",
    "        for batch in tqdm.tqdm(data_loader):\n",
    "            if batch is None:\n",
    "                continue  # Skip batches with null data\n",
    "\n",
    "            # Assuming each batch dictionary contains the necessary tensors already moved to the correct device\n",
    "            features = torch.cat(\n",
    "                [\n",
    "                    batch[\"temperature\"],\n",
    "                    batch[\"climatology\"],\n",
    "                    batch[\"latitude_info\"].unsqueeze(-1),  # Ensure dimensions are correct for concatenation\n",
    "                    batch[\"land_mask\"],\n",
    "                    batch[\"co2\"],\n",
    "                    batch[\"month_sin\"].unsqueeze(-1),\n",
    "                    batch[\"month_cos\"].unsqueeze(-1),\n",
    "                ],\n",
    "                dim=-1,\n",
    "            )\n",
    "\n",
    "            labels = batch[\"temperature\"]  # Assuming temperature is the label to predict; adjust as necessary\n",
    "\n",
    "            optimizer.zero_grad()\n",
    "            outputs = model(features)\n",
    "            loss = criterion(outputs, labels)\n",
    "            loss.backward()\n",
    "            optimizer.step()\n",
    "\n",
    "        print(f\"Epoch {epoch+1}/{num_epochs}, Loss: {loss.item()}\")\n",
    "\n",
    "        # Save checkpoint after each epoch\n",
    "        checkpoint_filename = os.path.join(\n",
    "            checkpoint_path, f\"model_epoch_{epoch+1}.pth\"\n",
    "        )\n",
    "        torch.save(model.state_dict(), checkpoint_filename)\n",
    "        print(f\"Checkpoint saved to {checkpoint_filename}\")\n",
    "\n",
    "    # Save final model\n",
    "    final_model_path = os.path.join(checkpoint_path, \"final_model.pth\")\n",
    "    torch.save(model.state_dict(), final_model_path)\n",
    "    print(f\"Final model saved to {final_model_path}\")"
   ]
  },
  {
   "cell_type": "code",
   "execution_count": 5,
   "metadata": {},
   "outputs": [],
   "source": [
    "temperature_path = \"/Users/jinho/Desktop/climatePrediction/data/raw/globalTemperature/Land_and_Ocean_LatLong1.nc\"\n",
    "co2_path = \"/Users/jinho/Desktop/climatePrediction/data/raw/globalGhgEmissions/CO2_1deg_month_1850-2013.nc\""
   ]
  },
  {
   "cell_type": "code",
   "execution_count": 6,
   "metadata": {},
   "outputs": [
    {
     "name": "stdout",
     "output_type": "stream",
     "text": [
      "Using mps device\n",
      "check\n"
     ]
    },
    {
     "name": "stderr",
     "output_type": "stream",
     "text": [
      "  0%|          | 0/510106 [00:00<?, ?it/s]"
     ]
    },
    {
     "ename": "",
     "evalue": "",
     "output_type": "error",
     "traceback": [
      "\u001b[1;31mThe Kernel crashed while executing code in the current cell or a previous cell. \n",
      "\u001b[1;31mPlease review the code in the cell(s) to identify a possible cause of the failure. \n",
      "\u001b[1;31mClick <a href='https://aka.ms/vscodeJupyterKernelCrash'>here</a> for more info. \n",
      "\u001b[1;31mView Jupyter <a href='command:jupyter.viewOutput'>log</a> for further details."
     ]
    }
   ],
   "source": [
    "# Define the dataset and DataLoader\n",
    "dataset = ClimateData(temperature_path, co2_path, grid_size=(5, 5))\n",
    "data_loader = DataLoader(dataset, batch_size=10, shuffle=True)\n",
    "\n",
    "# Define the model\n",
    "device = (\n",
    "    \"cuda\"\n",
    "    if torch.cuda.is_available()\n",
    "    else \"mps\"\n",
    "    if torch.backends.mps.is_available()\n",
    "    else \"cpu\"\n",
    ")\n",
    "print(f\"Using {device} device\")\n",
    "input_dim = 7  # Update based on number of features used: temp, climatology, lat, land_mask, co2, month_sin, month_cos\n",
    "hidden_dim = 64\n",
    "num_layers = 2\n",
    "output_dim = 1\n",
    "\n",
    "model = ClimateLSTM(input_dim, hidden_dim, num_layers, output_dim).to(device)\n",
    "criterion = nn.MSELoss()\n",
    "optimizer = optim.Adam(model.parameters(), lr=0.001)\n",
    "print('check')\n",
    "\n",
    "# Start training\n",
    "train_model(model, data_loader, criterion, optimizer, num_epochs=10)"
   ]
  },
  {
   "cell_type": "code",
   "execution_count": null,
   "metadata": {},
   "outputs": [],
   "source": []
  }
 ],
 "metadata": {
  "kernelspec": {
   "display_name": "climate",
   "language": "python",
   "name": "climate"
  },
  "language_info": {
   "codemirror_mode": {
    "name": "ipython",
    "version": 3
   },
   "file_extension": ".py",
   "mimetype": "text/x-python",
   "name": "python",
   "nbconvert_exporter": "python",
   "pygments_lexer": "ipython3",
   "version": "3.12.2"
  }
 },
 "nbformat": 4,
 "nbformat_minor": 2
}
