{
 "cells": [
  {
   "cell_type": "code",
   "execution_count": 2,
   "metadata": {},
   "outputs": [],
   "source": [
    "import xarray as xr\n",
    "\n",
    "ds = xr.open_dataset('./Land_and_Ocean_LatLong1.nc')"
   ]
  },
  {
   "cell_type": "code",
   "execution_count": 3,
   "metadata": {},
   "outputs": [
    {
     "name": "stdout",
     "output_type": "stream",
     "text": [
      "<xarray.Dataset> Size: 545MB\n",
      "Dimensions:      (longitude: 360, latitude: 180, time: 2089, month_number: 12)\n",
      "Coordinates:\n",
      "  * longitude    (longitude) float32 1kB -179.5 -178.5 -177.5 ... 178.5 179.5\n",
      "  * latitude     (latitude) float32 720B -89.5 -88.5 -87.5 ... 87.5 88.5 89.5\n",
      "  * time         (time) float64 17kB 1.85e+03 1.85e+03 ... 2.024e+03 2.024e+03\n",
      "Dimensions without coordinates: month_number\n",
      "Data variables:\n",
      "    land_mask    (latitude, longitude) float64 518kB ...\n",
      "    temperature  (time, latitude, longitude) float32 541MB ...\n",
      "    climatology  (month_number, latitude, longitude) float32 3MB ...\n",
      "Attributes:\n",
      "    Conventions:           Berkeley Earth Internal Convention (based on CF-1.5)\n",
      "    title:                 Native Format Berkeley Earth Surface Temperature A...\n",
      "    history:               20-Feb-2024 10:04:52\n",
      "    institution:           Berkeley Earth Surface Temperature Project\n",
      "    land_source_history:   07-Feb-2024 05:19:02\n",
      "    ocean_source_history:  20-Feb-2024 08:20:00\n",
      "    comment:               This file contains Berkeley Earth surface temperat...\n"
     ]
    }
   ],
   "source": [
    "print(ds)"
   ]
  },
  {
   "cell_type": "code",
   "execution_count": null,
   "metadata": {},
   "outputs": [],
   "source": []
  }
 ],
 "metadata": {
  "kernelspec": {
   "display_name": "climate",
   "language": "python",
   "name": "climate"
  },
  "language_info": {
   "codemirror_mode": {
    "name": "ipython",
    "version": 3
   },
   "file_extension": ".py",
   "mimetype": "text/x-python",
   "name": "python",
   "nbconvert_exporter": "python",
   "pygments_lexer": "ipython3",
   "version": "3.12.2"
  }
 },
 "nbformat": 4,
 "nbformat_minor": 2
}
