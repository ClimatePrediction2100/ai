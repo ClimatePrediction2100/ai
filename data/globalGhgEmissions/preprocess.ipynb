{
 "cells": [
  {
   "cell_type": "code",
   "execution_count": 1,
   "metadata": {},
   "outputs": [
    {
     "name": "stdout",
     "output_type": "stream",
     "text": [
      "Requirement already satisfied: xarray in /opt/homebrew/Caskroom/miniforge/base/envs/climate/lib/python3.12/site-packages (2024.3.0)\n",
      "Requirement already satisfied: numpy in /opt/homebrew/Caskroom/miniforge/base/envs/climate/lib/python3.12/site-packages (1.26.4)\n",
      "Requirement already satisfied: packaging>=22 in /opt/homebrew/Caskroom/miniforge/base/envs/climate/lib/python3.12/site-packages (from xarray) (24.0)\n",
      "Requirement already satisfied: pandas>=1.5 in /opt/homebrew/Caskroom/miniforge/base/envs/climate/lib/python3.12/site-packages (from xarray) (2.2.1)\n",
      "Requirement already satisfied: python-dateutil>=2.8.2 in /opt/homebrew/Caskroom/miniforge/base/envs/climate/lib/python3.12/site-packages (from pandas>=1.5->xarray) (2.9.0)\n",
      "Requirement already satisfied: pytz>=2020.1 in /opt/homebrew/Caskroom/miniforge/base/envs/climate/lib/python3.12/site-packages (from pandas>=1.5->xarray) (2024.1)\n",
      "Requirement already satisfied: tzdata>=2022.7 in /opt/homebrew/Caskroom/miniforge/base/envs/climate/lib/python3.12/site-packages (from pandas>=1.5->xarray) (2024.1)\n",
      "Requirement already satisfied: six>=1.5 in /opt/homebrew/Caskroom/miniforge/base/envs/climate/lib/python3.12/site-packages (from python-dateutil>=2.8.2->pandas>=1.5->xarray) (1.16.0)\n",
      "Note: you may need to restart the kernel to use updated packages.\n"
     ]
    }
   ],
   "source": [
    "%pip install xarray numpy"
   ]
  },
  {
   "cell_type": "code",
   "execution_count": 1,
   "metadata": {},
   "outputs": [],
   "source": [
    "import xarray as xr\n",
    "import numpy as np\n",
    "\n",
    "ds = xr.open_dataset('./CO2_1deg_month_1850-2013.nc')"
   ]
  },
  {
   "cell_type": "code",
   "execution_count": 2,
   "metadata": {},
   "outputs": [
    {
     "name": "stdout",
     "output_type": "stream",
     "text": [
      "<xarray.Dataset> Size: 1GB\n",
      "Dimensions:    (LonDim: 360, LatDim: 180, Times: 1968)\n",
      "Coordinates:\n",
      "  * Times      (Times) datetime64[ns] 16kB 1850-01-01 1850-02-01 ... 2013-12-01\n",
      "Dimensions without coordinates: LonDim, LatDim\n",
      "Data variables:\n",
      "    Longitude  (LonDim) float64 3kB ...\n",
      "    Latitude   (LatDim) float64 1kB ...\n",
      "    value      (Times, LatDim, LonDim) float64 1GB ...\n"
     ]
    }
   ],
   "source": [
    "print(ds)"
   ]
  },
  {
   "cell_type": "code",
   "execution_count": 3,
   "metadata": {},
   "outputs": [],
   "source": [
    "# Change the time dimension to be a simple index \n",
    "# Time: 1850 Jan = 0, 1850 Feb = 1, etc.\n",
    "# Longitude: 90S to 90N, 0 to 179\n",
    "# Latitude: 180W to 180E, 0 to 359\n",
    "time_indices = np.arange(len(ds['Times']))\n",
    "# lat_indices = np.arange(len(ds['Latitude']))\n",
    "# long_indices = np.arange(len(ds['Longitude']))\n",
    "\n",
    "# ds = ds.assign_coords(time = time_indices, latitude=lat_indices, longitude=long_indices)\n",
    "ds = ds.assign_coords(time = time_indices)\n"
   ]
  },
  {
   "cell_type": "code",
   "execution_count": 4,
   "metadata": {},
   "outputs": [],
   "source": [
    "def index_to_date(index):\n",
    "    base_year = 1850\n",
    "    year = base_year + index // 12\n",
    "    month = index % 12 + 1  # January is 1, February is 2, etc.\n",
    "    return f\"{year}-{month:02d}\"\n",
    "\n",
    "def index_to_lat(index):\n",
    "    return index - 89.5\n",
    "\n",
    "def index_to_long(index):\n",
    "    return index - 189.5\n",
    "\n",
    "def date_to_index(date):\n",
    "    year, month = date.split('-')\n",
    "    return (int(year) - 1850) * 12 + int(month) - 1\n",
    "\n",
    "def lat_to_index(lat):\n",
    "    # Latitude ranges from -89.5 to 89.5 with a step of 1\n",
    "    return int(lat + 89.5)\n",
    "\n",
    "def long_to_index(long):\n",
    "    # Longitude ranges from -189.5 to 189.5 with a step of 1\n",
    "    return int(long + 189.5)\n"
   ]
  },
  {
   "cell_type": "code",
   "execution_count": 9,
   "metadata": {},
   "outputs": [
    {
     "name": "stdout",
     "output_type": "stream",
     "text": [
      "Seoul, South Korea 2003-07\n",
      "CO2 PPM: 373.9236755371094\n"
     ]
    }
   ],
   "source": [
    "time_index = date_to_index('2003-07')  # For the second time point\n",
    "# lat_index = lat_to_index(0)  # Convert latitude 0 to its corresponding index\n",
    "# long_index = long_to_index(0)  # Convert longitude 0 to its corresponding index\n",
    "\n",
    "# Seoul, South Korea\n",
    "latitude = 137\n",
    "longitude = 38\n",
    "\n",
    "CO2 = ds['value'].isel(Times=time_index, LatDim=latitude, LonDim=longitude)\n",
    "\n",
    "print('Seoul, South Korea', index_to_date(time_index))\n",
    "print('CO2 PPM:', CO2.values)"
   ]
  },
  {
   "cell_type": "code",
   "execution_count": null,
   "metadata": {},
   "outputs": [],
   "source": []
  }
 ],
 "metadata": {
  "kernelspec": {
   "display_name": "climate",
   "language": "python",
   "name": "climate"
  },
  "language_info": {
   "codemirror_mode": {
    "name": "ipython",
    "version": 3
   },
   "file_extension": ".py",
   "mimetype": "text/x-python",
   "name": "python",
   "nbconvert_exporter": "python",
   "pygments_lexer": "ipython3",
   "version": "3.12.2"
  }
 },
 "nbformat": 4,
 "nbformat_minor": 2
}
